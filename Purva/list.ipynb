{
 "cells": [
  {
   "cell_type": "code",
   "execution_count": 1,
   "id": "5ddab882-2e4c-4218-862e-d394fe00f77c",
   "metadata": {},
   "outputs": [
    {
     "name": "stdout",
     "output_type": "stream",
     "text": [
      "[10, 20, 30, 40, 50, 'one', 'two', 'three', 'four', 'five']\n"
     ]
    }
   ],
   "source": [
    "first=[10,20,30,40,50]\n",
    "second=['one','two','three','four','five']\n",
    "third=first+second\n",
    "print(third)\n"
   ]
  },
  {
   "cell_type": "code",
   "execution_count": 2,
   "id": "6c664676-a61e-4446-83e3-e853983e133e",
   "metadata": {},
   "outputs": [
    {
     "data": {
      "text/plain": [
       "4"
      ]
     },
     "execution_count": 2,
     "metadata": {},
     "output_type": "execute_result"
    }
   ],
   "source": [
    "list1=['brazil','russia','india','china']\n",
    "len(list1)"
   ]
  },
  {
   "cell_type": "code",
   "execution_count": 3,
   "id": "c482cb21-c8e0-4b1b-bb6f-18b669819f9f",
   "metadata": {},
   "outputs": [],
   "source": [
    "list1.append(\"south africa\")"
   ]
  },
  {
   "cell_type": "code",
   "execution_count": 4,
   "id": "b7a93c19-d681-47c0-b84a-3add01dd3771",
   "metadata": {},
   "outputs": [
    {
     "name": "stdout",
     "output_type": "stream",
     "text": [
      "['brazil', 'russia', 'india', 'china', 'south africa']\n"
     ]
    }
   ],
   "source": [
    "print(list1)"
   ]
  },
  {
   "cell_type": "code",
   "execution_count": 5,
   "id": "54d3ecdc-c45b-40e0-b0fc-d8c69ea05d69",
   "metadata": {},
   "outputs": [
    {
     "name": "stdout",
     "output_type": "stream",
     "text": [
      "['brazil', 'russia', 'india', 'south africa']\n"
     ]
    }
   ],
   "source": [
    "list1.remove(\"china\")\n",
    "print(list1)"
   ]
  },
  {
   "cell_type": "code",
   "execution_count": 6,
   "id": "307b2b10-6045-4d89-8d8e-d2c868f86b18",
   "metadata": {},
   "outputs": [
    {
     "name": "stdout",
     "output_type": "stream",
     "text": [
      "['brazil', 'india', 'russia', 'south africa']\n"
     ]
    }
   ],
   "source": [
    "list1.sort()\n",
    "print(list1)"
   ]
  },
  {
   "cell_type": "code",
   "execution_count": null,
   "id": "47254b39-03b1-4bb9-b59b-ba26db361286",
   "metadata": {},
   "outputs": [],
   "source": []
  }
 ],
 "metadata": {
  "kernelspec": {
   "display_name": "Python 3 (ipykernel)",
   "language": "python",
   "name": "python3"
  },
  "language_info": {
   "codemirror_mode": {
    "name": "ipython",
    "version": 3
   },
   "file_extension": ".py",
   "mimetype": "text/x-python",
   "name": "python",
   "nbconvert_exporter": "python",
   "pygments_lexer": "ipython3",
   "version": "3.13.5"
  }
 },
 "nbformat": 4,
 "nbformat_minor": 5
}
