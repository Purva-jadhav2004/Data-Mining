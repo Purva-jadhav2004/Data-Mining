{
 "cells": [
  {
   "cell_type": "code",
   "execution_count": 1,
   "id": "4ed695e3-668e-464d-b77e-6c788c89195d",
   "metadata": {},
   "outputs": [
    {
     "name": "stdout",
     "output_type": "stream",
     "text": [
      "b is max\n"
     ]
    }
   ],
   "source": [
    "a=10\n",
    "b=20\n",
    "if a>b:\n",
    "    print(\"a is max\")\n",
    "else:\n",
    "    print(\"b is max\")\n",
    "    "
   ]
  },
  {
   "cell_type": "code",
   "execution_count": 2,
   "id": "6007c421-9752-4940-a53b-0171d29a7d27",
   "metadata": {},
   "outputs": [
    {
     "data": {
      "text/plain": [
       "False"
      ]
     },
     "execution_count": 2,
     "metadata": {},
     "output_type": "execute_result"
    }
   ],
   "source": [
    "size=1\n",
    "size<0\n"
   ]
  },
  {
   "cell_type": "code",
   "execution_count": 3,
   "id": "2f46257e-f285-429d-8d4c-f7203fb505f6",
   "metadata": {},
   "outputs": [
    {
     "data": {
      "text/plain": [
       "False"
      ]
     },
     "execution_count": 3,
     "metadata": {},
     "output_type": "execute_result"
    }
   ],
   "source": [
    "size1=0\n",
    "size1<0"
   ]
  },
  {
   "cell_type": "code",
   "execution_count": 4,
   "id": "553a6887-d685-46a6-a766-681d8394bb0b",
   "metadata": {},
   "outputs": [
    {
     "data": {
      "text/plain": [
       "True"
      ]
     },
     "execution_count": 4,
     "metadata": {},
     "output_type": "execute_result"
    }
   ],
   "source": [
    "size=-1\n",
    "size<0"
   ]
  },
  {
   "cell_type": "code",
   "execution_count": 7,
   "id": "66dc531a-9f0b-40c4-923b-c32bf7c3082a",
   "metadata": {},
   "outputs": [],
   "source": [
    "answer=None\n",
    "if answer is None:\n",
    "    quit=True\n",
    "elif answer=='quit':\n",
    "    quit=True\n",
    "else:\n",
    "    quit=False"
   ]
  },
  {
   "cell_type": "code",
   "execution_count": null,
   "id": "4e891fb9-4f34-4993-bc7a-58c056794768",
   "metadata": {},
   "outputs": [],
   "source": []
  },
  {
   "cell_type": "code",
   "execution_count": 8,
   "id": "aace396f-26ba-4c4a-a40c-c633da95965c",
   "metadata": {},
   "outputs": [
    {
     "data": {
      "text/plain": [
       "int"
      ]
     },
     "execution_count": 8,
     "metadata": {},
     "output_type": "execute_result"
    }
   ],
   "source": [
    "d=10\n",
    "type(d)"
   ]
  },
  {
   "cell_type": "code",
   "execution_count": 9,
   "id": "c1b5f459-ff43-4e76-ab93-5028842ebd41",
   "metadata": {},
   "outputs": [
    {
     "data": {
      "text/plain": [
       "float"
      ]
     },
     "execution_count": 9,
     "metadata": {},
     "output_type": "execute_result"
    }
   ],
   "source": [
    "f=24.5\n",
    "type(f)"
   ]
  },
  {
   "cell_type": "code",
   "execution_count": 10,
   "id": "0faeedf0-dd1f-4c57-b6c5-8ef5e0674f9e",
   "metadata": {},
   "outputs": [
    {
     "name": "stdout",
     "output_type": "stream",
     "text": [
      "3.0\n"
     ]
    }
   ],
   "source": [
    "y=3+4j\n",
    "print(y.real)"
   ]
  },
  {
   "cell_type": "code",
   "execution_count": 11,
   "id": "655888ba-bb96-48c2-b198-5d5f0ecaa0ce",
   "metadata": {},
   "outputs": [
    {
     "name": "stdout",
     "output_type": "stream",
     "text": [
      "4.0\n"
     ]
    }
   ],
   "source": [
    "y=3+4j\n",
    "print(y.imag)"
   ]
  },
  {
   "cell_type": "code",
   "execution_count": 12,
   "id": "651b17ad-0343-4a97-9237-16ea2d0631f8",
   "metadata": {},
   "outputs": [
    {
     "name": "stdout",
     "output_type": "stream",
     "text": [
      "Hello\n"
     ]
    }
   ],
   "source": [
    "s1=\"Hello\"\n",
    "s2=\"Akshay\"\n",
    "s3=\"BJS\"\n",
    "print(s1)"
   ]
  },
  {
   "cell_type": "code",
   "execution_count": 13,
   "id": "972a5c3a-e166-4324-87cb-0e5d5bd0c568",
   "metadata": {},
   "outputs": [
    {
     "name": "stdout",
     "output_type": "stream",
     "text": [
      "Akshay\n"
     ]
    }
   ],
   "source": [
    "print(s2)"
   ]
  },
  {
   "cell_type": "code",
   "execution_count": 14,
   "id": "046b9036-a9a0-46a2-82ba-1aefcc8b375f",
   "metadata": {},
   "outputs": [
    {
     "name": "stdout",
     "output_type": "stream",
     "text": [
      "BJS\n"
     ]
    }
   ],
   "source": [
    "print(s3)"
   ]
  },
  {
   "cell_type": "code",
   "execution_count": 15,
   "id": "cafa9e82-9950-4985-9c12-7ec044d38485",
   "metadata": {},
   "outputs": [
    {
     "data": {
      "text/plain": [
       "'youtubechannel'"
      ]
     },
     "execution_count": 15,
     "metadata": {},
     "output_type": "execute_result"
    }
   ],
   "source": [
    "name=\"youtube\"\n",
    "name+'channel'\n"
   ]
  },
  {
   "cell_type": "code",
   "execution_count": 17,
   "id": "dde1daa9-eb41-4fd7-bc0f-d2531d44cb92",
   "metadata": {},
   "outputs": [
    {
     "name": "stdout",
     "output_type": "stream",
     "text": [
      "OmShanti\n"
     ]
    }
   ],
   "source": [
    "m=\"Om\"\n",
    "n=\"Shanti\"\n",
    "o=m+n\n",
    "print(o)"
   ]
  },
  {
   "cell_type": "raw",
   "id": "dcd1bf1f-d899-42c1-b1be-40ef2441fee6",
   "metadata": {},
   "source": [
    "print(len(o))"
   ]
  },
  {
   "cell_type": "code",
   "execution_count": 18,
   "id": "e2b34715-5fad-4ccb-9ba0-fce757334063",
   "metadata": {},
   "outputs": [
    {
     "name": "stdout",
     "output_type": "stream",
     "text": [
      "OmShanti\n",
      "8\n"
     ]
    }
   ],
   "source": [
    "m=\"Om\"\n",
    "n=\"Shanti\"\n",
    "o=m+n\n",
    "print(o)\n",
    "print(len(o))"
   ]
  },
  {
   "cell_type": "code",
   "execution_count": 19,
   "id": "d9902dce-a255-4abe-9f38-3b07a027dd8e",
   "metadata": {},
   "outputs": [
    {
     "name": "stdout",
     "output_type": "stream",
     "text": [
      "OmShanti\n",
      "OMSHANTI\n"
     ]
    }
   ],
   "source": [
    "m=\"Om\"\n",
    "n=\"Shanti\"\n",
    "o=m+n\n",
    "print(o)\n",
    "print(o.upper())"
   ]
  },
  {
   "cell_type": "code",
   "execution_count": 20,
   "id": "d3d9e505-061d-4f73-909c-cc50edc75d55",
   "metadata": {},
   "outputs": [
    {
     "name": "stdout",
     "output_type": "stream",
     "text": [
      "OmShanti\n",
      "omshanti\n"
     ]
    }
   ],
   "source": [
    "m=\"Om\"\n",
    "n=\"Shanti\"\n",
    "o=m+n\n",
    "print(o)\n",
    "print(o.lower())"
   ]
  },
  {
   "cell_type": "code",
   "execution_count": 21,
   "id": "123a0bd3-74a5-4a30-a2d0-30655e526b62",
   "metadata": {},
   "outputs": [
    {
     "name": "stdout",
     "output_type": "stream",
     "text": [
      "Om Shanti\n"
     ]
    }
   ],
   "source": [
    "q=\" \"\n",
    "z=m+q+n\n",
    "print(z)    \n"
   ]
  },
  {
   "cell_type": "code",
   "execution_count": 22,
   "id": "a49c70c7-5be1-4af0-aed6-bbd5bcfeee15",
   "metadata": {},
   "outputs": [
    {
     "name": "stdout",
     "output_type": "stream",
     "text": [
      "Om Shanti\n"
     ]
    }
   ],
   "source": [
    "print(z.replace('shanti','Hari'))"
   ]
  },
  {
   "cell_type": "code",
   "execution_count": 23,
   "id": "828f2c2d-8e01-4ba1-91fb-b64cfe9bb5e8",
   "metadata": {},
   "outputs": [
    {
     "name": "stdout",
     "output_type": "stream",
     "text": [
      "Om Shanti\n"
     ]
    }
   ],
   "source": [
    "m=\"Om\"\n",
    "n=\"Shanti\"\n",
    "print(z.replace('shanti','Hari'))"
   ]
  },
  {
   "cell_type": "code",
   "execution_count": 24,
   "id": "5585ab4d-2ff7-457d-98e2-eda43d5fe2c3",
   "metadata": {},
   "outputs": [
    {
     "name": "stdout",
     "output_type": "stream",
     "text": [
      "Om Shanti\n",
      "Om Shanti\n"
     ]
    }
   ],
   "source": [
    "m=\"Om\"\n",
    "n=\"Shanti\"\n",
    "q=\" \"\n",
    "z=m+q+n\n",
    "print(z) \n",
    "print(z.replace('shanti','Hari'))"
   ]
  },
  {
   "cell_type": "code",
   "execution_count": 25,
   "id": "aef58813-8e23-479f-b7fa-d59b2a21943f",
   "metadata": {},
   "outputs": [
    {
     "name": "stdout",
     "output_type": "stream",
     "text": [
      "Om Hari\n"
     ]
    }
   ],
   "source": [
    "print(z.replace('Shanti','Hari'))"
   ]
  },
  {
   "cell_type": "code",
   "execution_count": 26,
   "id": "008342e7-6610-4dd2-bdb6-fc80de697e71",
   "metadata": {},
   "outputs": [
    {
     "name": "stdout",
     "output_type": "stream",
     "text": [
      "HelloWorld\n"
     ]
    }
   ],
   "source": [
    "a1=\"Hello\"\n",
    "a2=\"World\"\n",
    "a3=a1+a2\n",
    "print(a3)"
   ]
  },
  {
   "cell_type": "code",
   "execution_count": 27,
   "id": "cdaf4882-8816-4f02-9fb1-2ec8e5ad62fc",
   "metadata": {},
   "outputs": [],
   "source": [
    "first=[10,20,30,40,50]\n",
    "second=['one','two','three','four','five']\n",
    "third=first+second"
   ]
  },
  {
   "cell_type": "code",
   "execution_count": 28,
   "id": "0a2391cc-b182-44b7-a7e2-cfedeee43d39",
   "metadata": {},
   "outputs": [
    {
     "name": "stdout",
     "output_type": "stream",
     "text": [
      "[10, 20, 30, 40, 50, 'one', 'two', 'three', 'four', 'five']\n"
     ]
    }
   ],
   "source": [
    "print(third)"
   ]
  },
  {
   "cell_type": "code",
   "execution_count": null,
   "id": "a72da302-c5a0-40b9-9ef8-9ffe9e839461",
   "metadata": {},
   "outputs": [],
   "source": []
  }
 ],
 "metadata": {
  "kernelspec": {
   "display_name": "Python [conda env:base] *",
   "language": "python",
   "name": "conda-base-py"
  },
  "language_info": {
   "codemirror_mode": {
    "name": "ipython",
    "version": 3
   },
   "file_extension": ".py",
   "mimetype": "text/x-python",
   "name": "python",
   "nbconvert_exporter": "python",
   "pygments_lexer": "ipython3",
   "version": "3.13.5"
  }
 },
 "nbformat": 4,
 "nbformat_minor": 5
}
