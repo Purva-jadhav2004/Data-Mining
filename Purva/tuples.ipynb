{
 "cells": [
  {
   "cell_type": "code",
   "execution_count": 1,
   "id": "5811d6f8-bf0b-46c3-9faf-0e3db7bc20ee",
   "metadata": {},
   "outputs": [
    {
     "name": "stdout",
     "output_type": "stream",
     "text": [
      "Tuple with integers: (4, 6, 8, 10, 12, 14)\n"
     ]
    }
   ],
   "source": [
    "int_tuple=(4,6,8,10,12,14)\n",
    "print(\"Tuple with integers:\", int_tuple)"
   ]
  },
  {
   "cell_type": "markdown",
   "id": "aea52b85-276e-4ebd-a180-84081ce4ffe7",
   "metadata": {},
   "source": [
    "mixed_tuple=(4,\"Python\",9.3)\n",
    "print(\"Tuple with differnent data type:"
   ]
  }
 ],
 "metadata": {
  "kernelspec": {
   "display_name": "Python [conda env:base] *",
   "language": "python",
   "name": "conda-base-py"
  },
  "language_info": {
   "codemirror_mode": {
    "name": "ipython",
    "version": 3
   },
   "file_extension": ".py",
   "mimetype": "text/x-python",
   "name": "python",
   "nbconvert_exporter": "python",
   "pygments_lexer": "ipython3",
   "version": "3.13.5"
  }
 },
 "nbformat": 4,
 "nbformat_minor": 5
}
